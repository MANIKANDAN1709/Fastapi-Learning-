{
 "cells": [
  {
   "cell_type": "code",
   "execution_count": 20,
   "metadata": {},
   "outputs": [
    {
     "name": "stdout",
     "output_type": "stream",
     "text": [
      "id=1 name='John Doe' age=25\n",
      "<class 'int'>\n"
     ]
    }
   ],
   "source": [
    "from pydantic import BaseModel,StrictInt\n",
    "\n",
    "class User(BaseModel):\n",
    "    id: StrictInt\n",
    "    name: str\n",
    "    age: int\n",
    "\n",
    "\n",
    "user = User(id=1, name='John Doe', age=25)\n",
    "\n",
    "print(user)\n",
    "\n",
    "print(type(user.id))"
   ]
  }
 ],
 "metadata": {
  "kernelspec": {
   "display_name": "venv",
   "language": "python",
   "name": "python3"
  },
  "language_info": {
   "codemirror_mode": {
    "name": "ipython",
    "version": 3
   },
   "file_extension": ".py",
   "mimetype": "text/x-python",
   "name": "python",
   "nbconvert_exporter": "python",
   "pygments_lexer": "ipython3",
   "version": "3.12.5"
  }
 },
 "nbformat": 4,
 "nbformat_minor": 2
}
